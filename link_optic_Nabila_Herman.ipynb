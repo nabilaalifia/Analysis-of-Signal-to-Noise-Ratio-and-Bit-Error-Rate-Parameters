{
  "nbformat": 4,
  "nbformat_minor": 0,
  "metadata": {
    "colab": {
      "name": "link optic_Nabila Herman.ipynb",
      "provenance": [],
      "collapsed_sections": [],
      "authorship_tag": "ABX9TyPCdu24l8WOg0eDeQx0hMll",
      "include_colab_link": true
    },
    "kernelspec": {
      "name": "python3",
      "display_name": "Python 3"
    }
  },
  "cells": [
    {
      "cell_type": "markdown",
      "metadata": {
        "id": "view-in-github",
        "colab_type": "text"
      },
      "source": [
        "<a href=\"https://colab.research.google.com/github/nabilaalifia/Analysis-of-Signal-to-Noise-Ratio-and-Bit-Error-Rate-Parameters/blob/main/link_optic_Nabila_Herman.ipynb\" target=\"_parent\"><img src=\"https://colab.research.google.com/assets/colab-badge.svg\" alt=\"Open In Colab\"/></a>"
      ]
    },
    {
      "cell_type": "markdown",
      "metadata": {
        "id": "t5Rhq6sNHYne"
      },
      "source": [
        "#Nabila Herman(1101184066)"
      ]
    },
    {
      "cell_type": "code",
      "metadata": {
        "id": "uzhw8NpAPYEb"
      },
      "source": [
        "import numpy as np\n",
        "import matplotlib.pyplot as plt"
      ],
      "execution_count": 1,
      "outputs": []
    },
    {
      "cell_type": "code",
      "metadata": {
        "id": "2n-xJiIoHeKf"
      },
      "source": [
        "\n",
        "#Parameter-parameter yang dibutuhkan dalam perhitungan\n",
        "R = 0.85 #Responsifitas\n",
        "B = 15*10**9 #nilai bandwidth \n",
        "F = 1 #faktor gain \n",
        "K_boltzman = 1.38*10**-23 #konstanta boltzman\n",
        "T = 310 #suhu dalam kelvin\n",
        "RL = 50 #resistansi ekuivalen\n",
        "SM = 3 #safety margin\n",
        "M = -0.3 #tambahan daya sinyal\n",
        "q_coulomb = 1.6*10**-19 #konstantas Coulomb\n",
        "id = 90*10**-9 #dark current(Ampere)\n",
        "\n",
        "\n",
        "#Fungsi untuk mengonversi numerik ke logaritmik atau sebaliknya\n",
        "NtL = lambda x : 10*np.log10(x)\n",
        "LtN = lambda x : 10**(x/10)\n",
        "\n",
        "#Parameter dalam perhitungan Prx\n",
        "#jarak dari sentral ke ODC = 16 km\n",
        "#jarak dari ODC ke ODP = 10 km\n",
        "#jarak dari ODP ke ONU =  5*17 = 85 m (nomor urut presensi = 17) dengan 5 merupakan jarak asumsi setiap lantai\n",
        "#jarak total = 16000 + 10000 + 85 = 10045 m\n",
        "\n",
        "d = np.arange(0.85, 26.086, 1) #jarak dalam satuan km\n",
        "L_fiber = 0.36 #loss berdasarkan jenis fiber G657A2 (db)\n",
        "N_splicer = 7 #jumlah splicer\n",
        "L_splicer = 0.3 #loss dari splicer (db)\n",
        "N_connector = 5 #jumlah konektor\n",
        "L_connector = 0.3 #loss dari konektor (db)\n",
        "L_splitter = 16 + 19 #redaman splitter 1:16 + redaman 1:32\n",
        "Pt = 50 #daya kirim dari transmitter (dBm)\n",
        "\n",
        "\n",
        "\n",
        "\n",
        "\n"
      ],
      "execution_count": 2,
      "outputs": []
    },
    {
      "cell_type": "code",
      "metadata": {
        "colab": {
          "base_uri": "https://localhost:8080/"
        },
        "id": "6NcmD4feaK1E",
        "outputId": "ae296f68-6752-4947-9bf2-0a8f68bfa443"
      },
      "source": [
        "#fungsi untuk perhitungan daya terima di receiver (Prx)\n",
        "def P_rx():\n",
        "  hambatan_fiber = d * L_fiber\n",
        "  hambatan_splicer = N_splicer * L_splicer\n",
        "  hambatan_connector = N_connector * L_connector\n",
        "\n",
        "  alfa_total = hambatan_fiber + hambatan_splicer + hambatan_connector + L_splitter + SM \n",
        "  Pr= Pt - alfa_total\n",
        "  return Pr\n",
        "\n",
        "Pr = P_rx()\n",
        "print(\"Daya Terima adalah \", Pr)"
      ],
      "execution_count": 10,
      "outputs": [
        {
          "output_type": "stream",
          "text": [
            "Daya Terima adalah  [ 8.094  7.734  7.374  7.014  6.654  6.294  5.934  5.574  5.214  4.854\n",
            "  4.494  4.134  3.774  3.414  3.054  2.694  2.334  1.974  1.614  1.254\n",
            "  0.894  0.534  0.174 -0.186 -0.546 -0.906]\n"
          ],
          "name": "stdout"
        }
      ]
    },
    {
      "cell_type": "code",
      "metadata": {
        "colab": {
          "base_uri": "https://localhost:8080/"
        },
        "id": "lwD2dSrmnOuW",
        "outputId": "f267d62c-343f-4ca3-b157-46954d62cd7f"
      },
      "source": [
        "#fungsi untuk perhitungan arus primer\n",
        "def arus_primer():\n",
        "  Pr_num = LtN(Pr)\n",
        "  ip = Pr_num * R\n",
        "  return ip\n",
        "ip = arus_primer()\n",
        "print(\"besarnya arus primer adalah \", ip)"
      ],
      "execution_count": 4,
      "outputs": [
        {
          "output_type": "stream",
          "text": [
            "besarnya arus primer adalah  [5.48048415 5.04450928 4.64321641 4.27384656 3.93386023 3.62091997\n",
            " 3.33287423 3.06774266 2.82370242 2.59907568 2.3923181  2.20200817\n",
            " 2.02683748 1.86560169 1.71719227 1.58058889 1.45485237 1.33911824\n",
            " 1.23259081 1.13453768 1.04428473 0.96121143 0.88474665 0.81436467\n",
            " 0.74958161 0.68995208]\n"
          ],
          "name": "stdout"
        }
      ]
    },
    {
      "cell_type": "code",
      "metadata": {
        "colab": {
          "base_uri": "https://localhost:8080/"
        },
        "id": "fpQTRU6bwAnQ",
        "outputId": "ea499d82-b6c1-484b-e7c1-dec0fa1626d5"
      },
      "source": [
        "#fungsi untuk perhitungan signal power\n",
        "\n",
        "def signal_power():\n",
        "  Is_square = (ip*M)**2\n",
        "  return Is_square\n",
        "Is_square = signal_power()\n",
        "print(\"signal power sebesar \", Is_square)"
      ],
      "execution_count": 14,
      "outputs": [
        {
          "output_type": "stream",
          "text": [
            "signal power sebesar  [2.70321358 2.29023665 1.94035128 1.6439188  1.39277307 1.17999553\n",
            " 0.99972456 0.84699405 0.71759658 0.6079675  0.51508673 0.4363956\n",
            " 0.36972631 0.31324227 0.26538744 0.22484351 0.19049359 0.16139139\n",
            " 0.13673521 0.11584582 0.09814775 0.08315347 0.0704499  0.05968708\n",
            " 0.05056853 0.04284305]\n"
          ],
          "name": "stdout"
        }
      ]
    },
    {
      "cell_type": "code",
      "metadata": {
        "colab": {
          "base_uri": "https://localhost:8080/"
        },
        "id": "71rEKQVgxVJ5",
        "outputId": "3c9886fc-9c0b-49b9-d09b-628281b8c839"
      },
      "source": [
        "#fungsi untuk perhitungan SNR\n",
        "def SNR():\n",
        "  BDC = 2*q_coulomb*id*B*(M**2)*F #Bandwidth dark current\n",
        "  SN = 2*q_coulomb*ip*B*(M**2)*F #Shot Noise\n",
        "  NT = (4*K_boltzman*T*B)/RL #Noise thermal\n",
        "  Signal = Is_square\n",
        "  Noise = BDC + SN + NT\n",
        "\n",
        "  SNR = Signal / Noise \n",
        "  SNR_dbm = NtL(SNR)\n",
        "  return SNR_dbm\n",
        "\n",
        "SNR = SNR()\n",
        "print(\"SNR = \", SNR )\n"
      ],
      "execution_count": 6,
      "outputs": [
        {
          "output_type": "stream",
          "text": [
            "SNR =  [90.5663702  90.20555818 89.84467615 89.48371809 89.12267747 88.7615472\n",
            " 88.40031958 88.03898625 87.67753815 87.31596545 86.95425746 86.59240263\n",
            " 86.23038839 85.86820113 85.50582607 85.14324723 84.78044724 84.4174073\n",
            " 84.05410705 83.69052441 83.32663548 82.96241439 82.59783314 82.23286142\n",
            " 81.86746646 81.50161283]\n"
          ],
          "name": "stdout"
        }
      ]
    },
    {
      "cell_type": "code",
      "metadata": {
        "colab": {
          "base_uri": "https://localhost:8080/"
        },
        "id": "F7mLIc2hxoNL",
        "outputId": "3c343745-725b-470a-9787-f8e1fed72584"
      },
      "source": [
        "#Q formula\n",
        "def Q_rumus():\n",
        "  Q_rumus = 0.5 * (10**(SNR/50))\n",
        "  return Q_rumus\n",
        "Q = Q_rumus()\n",
        "print(\"nilai Q = \",Q)\n"
      ],
      "execution_count": 7,
      "outputs": [
        {
          "output_type": "stream",
          "text": [
            "nilai Q =  [32.38153323 31.84792691 31.32301275 30.80664231 30.29866922 29.7989491\n",
            " 29.30733954 28.82370002 28.34789186 27.87977813 27.41922363 26.9660948\n",
            " 26.52025967 26.0815878  25.64995017 25.2252192  24.80726861 24.39597336\n",
            " 23.99120962 23.59285467 23.20078684 22.81488543 22.43503065 22.06110353\n",
            " 21.69298588 21.33056018]\n"
          ],
          "name": "stdout"
        }
      ]
    },
    {
      "cell_type": "code",
      "metadata": {
        "colab": {
          "base_uri": "https://localhost:8080/"
        },
        "id": "Jovu9tTi0PMS",
        "outputId": "ba507df1-3b5e-4a4b-e796-1a66fa49b324"
      },
      "source": [
        "#fungsi untuk menghitung BER\n",
        "import math as m\n",
        "pe_list = []\n",
        "def BER_rumus():\n",
        "  z = 1/(Q * m.sqrt(2*m.pi))\n",
        "  for i in range (len(Q)):\n",
        "    pe = m.exp(-(Q[i]**2)/2)\n",
        "    pe_list.append(pe)\n",
        "  BER = (1/z)*(pe_list)\n",
        "  return BER\n",
        "BER = BER_rumus()\n",
        "print(BER)\n"
      ],
      "execution_count": 12,
      "outputs": [
        {
          "output_type": "stream",
          "text": [
            "[1.64692603e-226 4.48537442e-219 6.99900094e-212 6.37260067e-205\n",
            " 3.44599474e-198 1.12578527e-191 2.25904760e-185 2.82929251e-179\n",
            " 2.24616863e-173 1.14744356e-167 3.82690272e-162 8.45065596e-157\n",
            " 1.25246042e-151 1.26235716e-146 8.76346505e-142 4.24227025e-137\n",
            " 1.44921155e-132 3.53421261e-128 6.22210416e-124 7.99405318e-120\n",
            " 7.57414584e-116 5.34618695e-112 2.83900063e-108 1.14506304e-104\n",
            " 3.54027240e-101 8.46567495e-098]\n"
          ],
          "name": "stdout"
        }
      ]
    },
    {
      "cell_type": "code",
      "metadata": {
        "colab": {
          "base_uri": "https://localhost:8080/",
          "height": 295
        },
        "id": "uXi8OEb20gV_",
        "outputId": "0de8be57-9344-4ca0-d783-2fd6752b7c25"
      },
      "source": [
        "def graph_SNR_terhadap_BER():\n",
        "  plt.figure()\n",
        "  plt.plot(SNR, BER)\n",
        "  plt.title(\"perbandingan SNR terhadap BER\")\n",
        "  plt.xlabel(\"SNR (dB)\")\n",
        "  plt.ylabel(\"BER\")\n",
        "  plt.show()\n",
        "\n",
        "graph_SNR_terhadap_BER()\n",
        "\n"
      ],
      "execution_count": 13,
      "outputs": [
        {
          "output_type": "display_data",
          "data": {
            "image/png": "[encoded data removed]",
            "text/plain": [
              "<Figure size 432x288 with 1 Axes>"
            ]
          },
          "metadata": {
            "tags": [],
            "needs_background": "light"
          }
        }
      ]
    },
    {
      "cell_type": "code",
      "metadata": {
        "id": "hIQGSk_hGV0E"
      },
      "source": [
        ""
      ],
      "execution_count": 9,
      "outputs": []
    }
  ]
}